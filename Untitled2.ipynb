{
 "cells": [
  {
   "cell_type": "code",
   "execution_count": 50,
   "id": "0b41b54d",
   "metadata": {},
   "outputs": [],
   "source": [
    "import random\n",
    "import numpy"
   ]
  },
  {
   "cell_type": "code",
   "execution_count": 51,
   "id": "0b69ee77",
   "metadata": {},
   "outputs": [
    {
     "name": "stdout",
     "output_type": "stream",
     "text": [
      "78\n"
     ]
    }
   ],
   "source": [
    "n = random.randint(0,100) \n",
    "print(n)"
   ]
  },
  {
   "cell_type": "code",
   "execution_count": null,
   "id": "72d72498",
   "metadata": {},
   "outputs": [
    {
     "name": "stdout",
     "output_type": "stream",
     "text": [
      "Enter your guess :70\n",
      "The number is greater than 70\n",
      "Try again\n"
     ]
    }
   ],
   "source": [
    "x=int(input(\"Enter your guess :\"))\n",
    "while x>0:\n",
    "    while x != n:\n",
    "        if n-x==30 or x-n==30:\n",
    "            if x<n:\n",
    "                print(f\"The number is greater than {x}\\n**Hint: You are close**\\nTry again\")\n",
    "                x=int(input(\"Enter your guess :\"))\n",
    "            elif x>n:\n",
    "                print(f\"The number is less than {x}\\nHint: You are close**\\nTry again\")\n",
    "                x=int(input(\"Enter your guess :\"))\n",
    "        else:\n",
    "            if x<n:\n",
    "                print(f\"The number is greater than {x}\\nTry again\")\n",
    "                x=int(input(\"Enter your guess :\"))\n",
    "            elif x>n:\n",
    "                print(f\"The number is less than {x}\\nTry again\")\n",
    "                x=int(input(\"Enter your guess :\"))\n",
    "    else:\n",
    "        print(\"\\nBingo! You've guessed the correct number\")\n",
    "        break\n",
    "else:\n",
    "    print(\"The number is greater than 0\\nTry again\")\n",
    "    x=int(input(\"Enter your guess :\"))\n",
    "break"
   ]
  },
  {
   "cell_type": "code",
   "execution_count": null,
   "id": "2a1bbaff",
   "metadata": {},
   "outputs": [],
   "source": []
  },
  {
   "cell_type": "code",
   "execution_count": null,
   "id": "7c741adb",
   "metadata": {},
   "outputs": [],
   "source": []
  }
 ],
 "metadata": {
  "kernelspec": {
   "display_name": "Python 3",
   "language": "python",
   "name": "python3"
  }
 },
 "nbformat": 4,
 "nbformat_minor": 5
}
